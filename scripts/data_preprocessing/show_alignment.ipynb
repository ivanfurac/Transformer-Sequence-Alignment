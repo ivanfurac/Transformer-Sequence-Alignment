{
 "cells": [
  {
   "cell_type": "code",
   "execution_count": 1,
   "metadata": {},
   "outputs": [],
   "source": [
    "import random"
   ]
  },
  {
   "cell_type": "code",
   "execution_count": 2,
   "metadata": {},
   "outputs": [],
   "source": [
    "LEN = 500000"
   ]
  },
  {
   "cell_type": "code",
   "execution_count": 3,
   "metadata": {},
   "outputs": [],
   "source": [
    "file = open('D:/alignments_200_gap5_500000', 'r')"
   ]
  },
  {
   "attachments": {},
   "cell_type": "markdown",
   "metadata": {},
   "source": [
    "<h2> Let's check how one alignment from train data looks like </h2>"
   ]
  },
  {
   "cell_type": "code",
   "execution_count": 4,
   "metadata": {},
   "outputs": [],
   "source": [
    "index = random.randint(0, LEN - 1)\n",
    "\n",
    "for pos, line in enumerate(file):\n",
    "    if pos == index:\n",
    "        selected_line = line"
   ]
  },
  {
   "cell_type": "code",
   "execution_count": 5,
   "metadata": {},
   "outputs": [],
   "source": [
    "selected_line = selected_line.strip('\\n').split('\\t')\n",
    "unaligned = selected_line[0]\n",
    "aligned = selected_line[1]\n",
    "score = float(selected_line[2])"
   ]
  },
  {
   "cell_type": "code",
   "execution_count": 6,
   "metadata": {},
   "outputs": [],
   "source": [
    "aligned1 = ''\n",
    "aligned2 = ''\n",
    "\n",
    "for pair in aligned.split():\n",
    "    if(pair[0] == 'x'):\n",
    "        aligned1 += '-'\n",
    "    else:\n",
    "        aligned1 += pair[0]\n",
    "        \n",
    "    if(pair[1] == 'x'):\n",
    "        aligned2 += '-'\n",
    "    else:\n",
    "        aligned2 += pair[1]"
   ]
  },
  {
   "cell_type": "code",
   "execution_count": 7,
   "metadata": {},
   "outputs": [
    {
     "name": "stdout",
     "output_type": "stream",
     "text": [
      "86.0\n",
      "MNEIPHGELQQQTFYELVG-GEDTFRRLVHRFYEGVAGDPDLRAMYPEEDLGPA-EERLTLFLIQYWGG--PRT---YSD-----SRGHPRLRMRHAPFAVNRAAH-DAWLRHMR-TAVDELGLPPEQ------RAQ-LWDYLVYAAA--S--MVN---------TPG--\n",
      "MIGARRDEAAARIAHE-TGIDEAMIGRLVRRFYDKVRADP-L--------LGPVFDAR-----IDDWDGHLQRMCAFWSSVALMTGRYHGRPMEKHMLLPVD-AAHFDRWLTLFRATAA-EV-CPPAAAAHFIVRAQRIAESLELGVAGFSGVMLRKGERFRRAATASEK\n"
     ]
    }
   ],
   "source": [
    "print(score)\n",
    "print(aligned1)\n",
    "print(aligned2)"
   ]
  },
  {
   "attachments": {},
   "cell_type": "markdown",
   "metadata": {},
   "source": [
    "<h3> Generate smaller datasets with 100 000, 500 000 and 1 000 000 alignments </h3>"
   ]
  },
  {
   "cell_type": "code",
   "execution_count": 8,
   "metadata": {},
   "outputs": [],
   "source": [
    "file1 = open('D:/alignments_1', 'w')\n",
    "file5 = open('D:/alignments_5', 'w')\n",
    "file10 = open('D:/alignments_10', 'w')"
   ]
  },
  {
   "cell_type": "code",
   "execution_count": 9,
   "metadata": {},
   "outputs": [],
   "source": [
    "indexes = [i for i in range(LEN)]\n",
    "random.shuffle(indexes)"
   ]
  },
  {
   "cell_type": "code",
   "execution_count": null,
   "metadata": {},
   "outputs": [],
   "source": [
    "indexes[:30]"
   ]
  },
  {
   "attachments": {},
   "cell_type": "markdown",
   "metadata": {},
   "source": [
    "<h3> Check one arbitraray alignment </h3>"
   ]
  },
  {
   "cell_type": "code",
   "execution_count": 4,
   "metadata": {},
   "outputs": [
    {
     "name": "stdout",
     "output_type": "stream",
     "text": [
      "MLDQQTI-NIIKATVPVLKEHGVTITTTFYKNLFAKHPE-VRPLF-DMGRQESLEQ--PKAL---AMTVLAAAQNIENLP--AILPAVKKIAVKHCQAGVAAAHYPIVGQ--EL-LGAIKEVL-GDAATD------DILDAWGKAYGVIADVFI--QVEADLYAQAV-E\n",
      "M--KKALEN--KEDIKLLVD-------SFYDKI--KQNELLAPIFIDQ-MQVNWESHLPKMYDFWEM-ILFDGTEFRGAPMRAHLIVNNKVPL---NSG----HFE---QWLQLFFDTVDELFEGEKADEVKVRAYNIANSW--AYKM---EYINSQ-QAE--SRPIPD\n"
     ]
    }
   ],
   "source": [
    "alignment = 'MM Lx Dx QK QK TA IL xE NN Ix Ix KK AE TD VI PK VL LL KV ED Hx Gx Vx Tx Ix Tx Tx TS FF YY KD NK LI Fx Ax KK HQ PN EE xL VL RA PP LI FF xI DD MQ Gx RM QQ EV SN LW EE QS xH xL PP KK AM LY xD xF xW AE MM Tx VI LL AF AD AG QT NE IF ER NG LA PP xM xR AA IH LL PI AV VN KN KK IV AP VL Kx Hx Cx QN AS GG Vx Ax Ax Ax HH YF PE Ix Vx Gx QQ xW xL EQ LL xF LF GD AT IV KD EE VL LF xE GG DE AK AA TD DE xV xK xV xR xA xY DN II LA DN AS WW Gx Kx AA YY GK VM Ix Ax Dx VE FY II xN xS QQ Vx EQ AA DE Lx Yx AS QR AP VI xP ED'\n",
    "\n",
    "aligned1 = ''\n",
    "aligned2 = ''\n",
    "\n",
    "for pair in alignment.split():\n",
    "    if(pair[0] == 'x'):\n",
    "        aligned1 += '-'\n",
    "    else:\n",
    "        aligned1 += pair[0]\n",
    "        \n",
    "    if(pair[1] == 'x'):\n",
    "        aligned2 += '-'\n",
    "    else:\n",
    "        aligned2 += pair[1]\n",
    "        \n",
    "print(aligned1)\n",
    "print(aligned2)"
   ]
  }
 ],
 "metadata": {
  "kernelspec": {
   "display_name": "Python 3",
   "language": "python",
   "name": "python3"
  },
  "language_info": {
   "codemirror_mode": {
    "name": "ipython",
    "version": 3
   },
   "file_extension": ".py",
   "mimetype": "text/x-python",
   "name": "python",
   "nbconvert_exporter": "python",
   "pygments_lexer": "ipython3",
   "version": "3.8.6"
  },
  "orig_nbformat": 4
 },
 "nbformat": 4,
 "nbformat_minor": 2
}
